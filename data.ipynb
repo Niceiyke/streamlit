{
 "cells": [
  {
   "cell_type": "code",
   "execution_count": 18,
   "metadata": {},
   "outputs": [],
   "source": [
    "import pandas as pd\n",
    "df1=pd.read_csv('line56.csv')"
   ]
  },
  {
   "cell_type": "code",
   "execution_count": 21,
   "metadata": {},
   "outputs": [
    {
     "name": "stderr",
     "output_type": "stream",
     "text": [
      "C:\\Users\\iyked\\AppData\\Local\\Temp\\ipykernel_18524\\793732778.py:6: SettingWithCopyWarning: \n",
      "A value is trying to be set on a copy of a slice from a DataFrame.\n",
      "Try using .loc[row_indexer,col_indexer] = value instead\n",
      "\n",
      "See the caveats in the documentation: https://pandas.pydata.org/pandas-docs/stable/user_guide/indexing.html#returning-a-view-versus-a-copy\n",
      "  df['Category']=df['Category'].replace({'Break Down':'Breakdown','Minor Stop':'Minor stops'})\n"
     ]
    },
    {
     "data": {
      "text/html": [
       "<div>\n",
       "<style scoped>\n",
       "    .dataframe tbody tr th:only-of-type {\n",
       "        vertical-align: middle;\n",
       "    }\n",
       "\n",
       "    .dataframe tbody tr th {\n",
       "        vertical-align: top;\n",
       "    }\n",
       "\n",
       "    .dataframe thead th {\n",
       "        text-align: right;\n",
       "    }\n",
       "</style>\n",
       "<table border=\"1\" class=\"dataframe\">\n",
       "  <thead>\n",
       "    <tr style=\"text-align: right;\">\n",
       "      <th></th>\n",
       "      <th>ProductionDate</th>\n",
       "      <th>FunctionFailure</th>\n",
       "      <th>Equipment</th>\n",
       "      <th>Line</th>\n",
       "      <th>Frequency</th>\n",
       "      <th>Duration</th>\n",
       "      <th>Category</th>\n",
       "    </tr>\n",
       "  </thead>\n",
       "  <tbody>\n",
       "    <tr>\n",
       "      <th>0</th>\n",
       "      <td>27/04/2024</td>\n",
       "      <td>.</td>\n",
       "      <td>Labeller</td>\n",
       "      <td>6</td>\n",
       "      <td>0</td>\n",
       "      <td>0</td>\n",
       "      <td>Minor stops</td>\n",
       "    </tr>\n",
       "    <tr>\n",
       "      <th>1</th>\n",
       "      <td>27/04/2024</td>\n",
       "      <td>,</td>\n",
       "      <td>Bottle Washer</td>\n",
       "      <td>6</td>\n",
       "      <td>1</td>\n",
       "      <td>0</td>\n",
       "      <td>Minor stops</td>\n",
       "    </tr>\n",
       "    <tr>\n",
       "      <th>2</th>\n",
       "      <td>27/04/2024</td>\n",
       "      <td>.</td>\n",
       "      <td>Labeller</td>\n",
       "      <td>6</td>\n",
       "      <td>0</td>\n",
       "      <td>0</td>\n",
       "      <td>Planned Stop</td>\n",
       "    </tr>\n",
       "    <tr>\n",
       "      <th>3</th>\n",
       "      <td>27/04/2024</td>\n",
       "      <td>P.E sensor at glide liner infeed to Labeller m...</td>\n",
       "      <td>Labeller</td>\n",
       "      <td>6</td>\n",
       "      <td>1</td>\n",
       "      <td>7</td>\n",
       "      <td>Breakdown</td>\n",
       "    </tr>\n",
       "    <tr>\n",
       "      <th>4</th>\n",
       "      <td>27/04/2024</td>\n",
       "      <td>CILT TIME</td>\n",
       "      <td>NaN</td>\n",
       "      <td>6</td>\n",
       "      <td>1</td>\n",
       "      <td>8</td>\n",
       "      <td>Planned Stop</td>\n",
       "    </tr>\n",
       "  </tbody>\n",
       "</table>\n",
       "</div>"
      ],
      "text/plain": [
       "  ProductionDate                                    FunctionFailure  \\\n",
       "0     27/04/2024                                                  .   \n",
       "1     27/04/2024                                                  ,   \n",
       "2     27/04/2024                                                  .   \n",
       "3     27/04/2024  P.E sensor at glide liner infeed to Labeller m...   \n",
       "4     27/04/2024                                         CILT TIME    \n",
       "\n",
       "       Equipment  Line  Frequency  Duration      Category  \n",
       "0       Labeller     6          0         0   Minor stops  \n",
       "1  Bottle Washer     6          1         0   Minor stops  \n",
       "2       Labeller     6          0         0  Planned Stop  \n",
       "3       Labeller     6          1         7     Breakdown  \n",
       "4            NaN     6          1         8  Planned Stop  "
      ]
     },
     "execution_count": 21,
     "metadata": {},
     "output_type": "execute_result"
    }
   ],
   "source": [
    "selected_column=['A_Date_','Description_',\t'H_Machine_','C_Line_',\t'Frequency_',\t'E_Duration_','G_Downtime_Type',\t]\n",
    "df=df1[selected_column]\n",
    "new_column=['ProductionDate','FunctionFailure','Equipment','Line','Frequency','Duration','Category']\n",
    "\n",
    "df.columns=new_column\n",
    "df['Category']=df['Category'].replace({'Break Down':'Breakdown','Minor Stop':'Minor stops'})\n",
    "\n",
    "df.head()"
   ]
  },
  {
   "cell_type": "code",
   "execution_count": 12,
   "metadata": {},
   "outputs": [
    {
     "data": {
      "text/plain": [
       "0         Minor Stop\n",
       "1         Minor Stop\n",
       "2       Planned Stop\n",
       "3          Breakdown\n",
       "4       Planned Stop\n",
       "            ...     \n",
       "1870      Minor Stop\n",
       "1871      Minor Stop\n",
       "1872    Planned Stop\n",
       "1873    Planned Stop\n",
       "1874      Minor Stop\n",
       "Name: Category, Length: 1875, dtype: object"
      ]
     },
     "execution_count": 12,
     "metadata": {},
     "output_type": "execute_result"
    }
   ],
   "source": [
    "\n",
    "\n"
   ]
  },
  {
   "cell_type": "code",
   "execution_count": null,
   "metadata": {},
   "outputs": [],
   "source": []
  },
  {
   "cell_type": "code",
   "execution_count": null,
   "metadata": {},
   "outputs": [],
   "source": []
  }
 ],
 "metadata": {
  "kernelspec": {
   "display_name": "venv",
   "language": "python",
   "name": "python3"
  },
  "language_info": {
   "codemirror_mode": {
    "name": "ipython",
    "version": 3
   },
   "file_extension": ".py",
   "mimetype": "text/x-python",
   "name": "python",
   "nbconvert_exporter": "python",
   "pygments_lexer": "ipython3",
   "version": "3.12.3"
  }
 },
 "nbformat": 4,
 "nbformat_minor": 2
}
